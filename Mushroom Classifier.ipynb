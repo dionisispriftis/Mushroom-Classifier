{
 "cells": [
  {
   "cell_type": "code",
   "execution_count": 1,
   "metadata": {},
   "outputs": [],
   "source": [
    "import numpy as np \n",
    "import pandas as pd\n",
    "import matplotlib.pyplot as plt"
   ]
  },
  {
   "cell_type": "markdown",
   "metadata": {},
   "source": [
    "### Goal\n",
    "The main objective of the analysis is the dimensionality reduction of the features we have, and the impact this one has on the accuracy of our model"
   ]
  },
  {
   "cell_type": "markdown",
   "metadata": {},
   "source": [
    "### Dataset \n",
    "The dataset is acquired from the Kaggle website and includes descriptions of hypothetical samples corresponding to 23 species of gilled mushrooms in the Agaricus and Lepiota Family Mushroom.The features of the dataset are the following: \n",
    "* cap-shape: bell=b,conical=c,convex=x,flat=f, knobbed=k,sunken=s\n",
    "* cap-surface: fibrous=f,grooves=g,scaly=y,smooth=s\n",
    "* cap-color: brown=n,buff=b,cinnamon=c,gray=g,green=r,pink=p,purple=u,red=e,white=w,yellow=y\n",
    "* bruises: bruises=t,no=f\n",
    "* odor: almond=a,anise=l,creosote=c,fishy=y,foul=f,musty=m,none=n,pungent=p,spicy=s\n",
    "* gill-attachment: attached=a,descending=d,free=f,notched=n\n",
    "* gill-spacing: close=c,crowded=w,distant=d\n",
    "* gill-size: broad=b,narrow=n\n",
    "* gill-color:black=k,brown=n,buff=b,chocolate=h,gray=g,green=r,orange=o,pink=p,purple=u,red=e,white=w,yellow=y\n",
    "* stalk-shape: enlarging=e,tapering=t\n",
    "* stalk-root: bulbous=b,club=c,cup=u,equal=e,rhizomorphs=z,rooted=r,missing=?\n",
    "* stalk-surface-above-ring: fibrous=f,scaly=y,silky=k,smooth=s\n",
    "* stalk-surface-below-ring: fibrous=f,scaly=y,silky=k,smooth=s\n",
    "* stalk-color-above-ring: brown=n,buff=b,cinnamon=c,gray=g,orange=o,pink=p,red=e,white=w,yellow=y\n",
    "* stalk-color-below-ring: brown=n,buff=b,cinnamon=c,gray=g,orange=o,pink=p,red=e,white=w,yellow=y\n",
    "* veil-type: partial=p,universal=u\n",
    "* veil-color: brown=n,orange=o,white=w,yellow=y\n",
    "* ring-number: none=n,one=o,two=t\n",
    "* ring-type: cobwebby=c,evanescent=e,flaring=f,large=l,none=n,pendant=p,sheathing=s,zone=z\n",
    "* spore-print-color: black=k,brown=n,buff=b,chocolate=h,green=r,orange=o,purple=u,white=w,yellow=y\n",
    "* population: abundant=a,clustered=c,numerous=n,scattered=s,several=v,solitary=y\n",
    "* habitat: grasses=g,leaves=l,meadows=m,paths=p,urban=u,waste=w,woods=d\n",
    "\n",
    "Each mushroom belongs to a class which is either p (for poisonous) or e (for edible)"
   ]
  },
  {
   "cell_type": "code",
   "execution_count": 2,
   "metadata": {},
   "outputs": [],
   "source": [
    "path = 'data/mushrooms.csv'\n",
    "data = pd.read_csv(path)"
   ]
  },
  {
   "cell_type": "code",
   "execution_count": 3,
   "metadata": {},
   "outputs": [
    {
     "data": {
      "text/html": [
       "<div>\n",
       "<style scoped>\n",
       "    .dataframe tbody tr th:only-of-type {\n",
       "        vertical-align: middle;\n",
       "    }\n",
       "\n",
       "    .dataframe tbody tr th {\n",
       "        vertical-align: top;\n",
       "    }\n",
       "\n",
       "    .dataframe thead th {\n",
       "        text-align: right;\n",
       "    }\n",
       "</style>\n",
       "<table border=\"1\" class=\"dataframe\">\n",
       "  <thead>\n",
       "    <tr style=\"text-align: right;\">\n",
       "      <th></th>\n",
       "      <th>class</th>\n",
       "      <th>cap-shape</th>\n",
       "      <th>cap-surface</th>\n",
       "      <th>cap-color</th>\n",
       "      <th>bruises</th>\n",
       "      <th>odor</th>\n",
       "      <th>gill-attachment</th>\n",
       "      <th>gill-spacing</th>\n",
       "      <th>gill-size</th>\n",
       "      <th>gill-color</th>\n",
       "      <th>...</th>\n",
       "      <th>stalk-surface-below-ring</th>\n",
       "      <th>stalk-color-above-ring</th>\n",
       "      <th>stalk-color-below-ring</th>\n",
       "      <th>veil-type</th>\n",
       "      <th>veil-color</th>\n",
       "      <th>ring-number</th>\n",
       "      <th>ring-type</th>\n",
       "      <th>spore-print-color</th>\n",
       "      <th>population</th>\n",
       "      <th>habitat</th>\n",
       "    </tr>\n",
       "  </thead>\n",
       "  <tbody>\n",
       "    <tr>\n",
       "      <th>0</th>\n",
       "      <td>p</td>\n",
       "      <td>x</td>\n",
       "      <td>s</td>\n",
       "      <td>n</td>\n",
       "      <td>t</td>\n",
       "      <td>p</td>\n",
       "      <td>f</td>\n",
       "      <td>c</td>\n",
       "      <td>n</td>\n",
       "      <td>k</td>\n",
       "      <td>...</td>\n",
       "      <td>s</td>\n",
       "      <td>w</td>\n",
       "      <td>w</td>\n",
       "      <td>p</td>\n",
       "      <td>w</td>\n",
       "      <td>o</td>\n",
       "      <td>p</td>\n",
       "      <td>k</td>\n",
       "      <td>s</td>\n",
       "      <td>u</td>\n",
       "    </tr>\n",
       "    <tr>\n",
       "      <th>1</th>\n",
       "      <td>e</td>\n",
       "      <td>x</td>\n",
       "      <td>s</td>\n",
       "      <td>y</td>\n",
       "      <td>t</td>\n",
       "      <td>a</td>\n",
       "      <td>f</td>\n",
       "      <td>c</td>\n",
       "      <td>b</td>\n",
       "      <td>k</td>\n",
       "      <td>...</td>\n",
       "      <td>s</td>\n",
       "      <td>w</td>\n",
       "      <td>w</td>\n",
       "      <td>p</td>\n",
       "      <td>w</td>\n",
       "      <td>o</td>\n",
       "      <td>p</td>\n",
       "      <td>n</td>\n",
       "      <td>n</td>\n",
       "      <td>g</td>\n",
       "    </tr>\n",
       "    <tr>\n",
       "      <th>2</th>\n",
       "      <td>e</td>\n",
       "      <td>b</td>\n",
       "      <td>s</td>\n",
       "      <td>w</td>\n",
       "      <td>t</td>\n",
       "      <td>l</td>\n",
       "      <td>f</td>\n",
       "      <td>c</td>\n",
       "      <td>b</td>\n",
       "      <td>n</td>\n",
       "      <td>...</td>\n",
       "      <td>s</td>\n",
       "      <td>w</td>\n",
       "      <td>w</td>\n",
       "      <td>p</td>\n",
       "      <td>w</td>\n",
       "      <td>o</td>\n",
       "      <td>p</td>\n",
       "      <td>n</td>\n",
       "      <td>n</td>\n",
       "      <td>m</td>\n",
       "    </tr>\n",
       "    <tr>\n",
       "      <th>3</th>\n",
       "      <td>p</td>\n",
       "      <td>x</td>\n",
       "      <td>y</td>\n",
       "      <td>w</td>\n",
       "      <td>t</td>\n",
       "      <td>p</td>\n",
       "      <td>f</td>\n",
       "      <td>c</td>\n",
       "      <td>n</td>\n",
       "      <td>n</td>\n",
       "      <td>...</td>\n",
       "      <td>s</td>\n",
       "      <td>w</td>\n",
       "      <td>w</td>\n",
       "      <td>p</td>\n",
       "      <td>w</td>\n",
       "      <td>o</td>\n",
       "      <td>p</td>\n",
       "      <td>k</td>\n",
       "      <td>s</td>\n",
       "      <td>u</td>\n",
       "    </tr>\n",
       "    <tr>\n",
       "      <th>4</th>\n",
       "      <td>e</td>\n",
       "      <td>x</td>\n",
       "      <td>s</td>\n",
       "      <td>g</td>\n",
       "      <td>f</td>\n",
       "      <td>n</td>\n",
       "      <td>f</td>\n",
       "      <td>w</td>\n",
       "      <td>b</td>\n",
       "      <td>k</td>\n",
       "      <td>...</td>\n",
       "      <td>s</td>\n",
       "      <td>w</td>\n",
       "      <td>w</td>\n",
       "      <td>p</td>\n",
       "      <td>w</td>\n",
       "      <td>o</td>\n",
       "      <td>e</td>\n",
       "      <td>n</td>\n",
       "      <td>a</td>\n",
       "      <td>g</td>\n",
       "    </tr>\n",
       "  </tbody>\n",
       "</table>\n",
       "<p>5 rows × 23 columns</p>\n",
       "</div>"
      ],
      "text/plain": [
       "  class cap-shape cap-surface cap-color bruises odor gill-attachment  \\\n",
       "0     p         x           s         n       t    p               f   \n",
       "1     e         x           s         y       t    a               f   \n",
       "2     e         b           s         w       t    l               f   \n",
       "3     p         x           y         w       t    p               f   \n",
       "4     e         x           s         g       f    n               f   \n",
       "\n",
       "  gill-spacing gill-size gill-color  ... stalk-surface-below-ring  \\\n",
       "0            c         n          k  ...                        s   \n",
       "1            c         b          k  ...                        s   \n",
       "2            c         b          n  ...                        s   \n",
       "3            c         n          n  ...                        s   \n",
       "4            w         b          k  ...                        s   \n",
       "\n",
       "  stalk-color-above-ring stalk-color-below-ring veil-type veil-color  \\\n",
       "0                      w                      w         p          w   \n",
       "1                      w                      w         p          w   \n",
       "2                      w                      w         p          w   \n",
       "3                      w                      w         p          w   \n",
       "4                      w                      w         p          w   \n",
       "\n",
       "  ring-number ring-type spore-print-color population habitat  \n",
       "0           o         p                 k          s       u  \n",
       "1           o         p                 n          n       g  \n",
       "2           o         p                 n          n       m  \n",
       "3           o         p                 k          s       u  \n",
       "4           o         e                 n          a       g  \n",
       "\n",
       "[5 rows x 23 columns]"
      ]
     },
     "execution_count": 3,
     "metadata": {},
     "output_type": "execute_result"
    }
   ],
   "source": [
    "data.head()"
   ]
  },
  {
   "cell_type": "code",
   "execution_count": 4,
   "metadata": {},
   "outputs": [
    {
     "data": {
      "text/plain": [
       "(8124, 23)"
      ]
     },
     "execution_count": 4,
     "metadata": {},
     "output_type": "execute_result"
    }
   ],
   "source": [
    "data.shape"
   ]
  },
  {
   "cell_type": "code",
   "execution_count": 5,
   "metadata": {},
   "outputs": [
    {
     "data": {
      "text/plain": [
       "e    4208\n",
       "p    3916\n",
       "Name: class, dtype: int64"
      ]
     },
     "execution_count": 5,
     "metadata": {},
     "output_type": "execute_result"
    }
   ],
   "source": [
    "data['class'].value_counts()"
   ]
  },
  {
   "cell_type": "code",
   "execution_count": 6,
   "metadata": {},
   "outputs": [],
   "source": [
    "from sklearn.preprocessing import LabelBinarizer\n",
    "\n",
    "X = data.drop('class', axis = 1)\n",
    "\n",
    "lb = LabelBinarizer().fit_transform(data['class'])\n",
    "data['class'] = lb\n",
    "y = data['class']"
   ]
  },
  {
   "cell_type": "code",
   "execution_count": 7,
   "metadata": {},
   "outputs": [
    {
     "data": {
      "text/plain": [
       "'117 unique values in our features'"
      ]
     },
     "execution_count": 7,
     "metadata": {},
     "output_type": "execute_result"
    }
   ],
   "source": [
    "sum = 0\n",
    "for col in X.columns:\n",
    "    sum += len(X[col].unique())\n",
    "'{} unique values in our features'.format(sum)"
   ]
  },
  {
   "cell_type": "markdown",
   "metadata": {},
   "source": [
    "#### Dummies - Convert the categorical features we have"
   ]
  },
  {
   "cell_type": "code",
   "execution_count": 43,
   "metadata": {},
   "outputs": [
    {
     "data": {
      "text/plain": [
       "95"
      ]
     },
     "execution_count": 43,
     "metadata": {},
     "output_type": "execute_result"
    }
   ],
   "source": [
    "features = pd.get_dummies(X, drop_first = True)\n",
    "features.shape[1]"
   ]
  },
  {
   "cell_type": "markdown",
   "metadata": {},
   "source": [
    "By dropping the first column of each feature we ended up with 95 new numerical features"
   ]
  },
  {
   "cell_type": "markdown",
   "metadata": {},
   "source": [
    "#### K-means to see if can detect an elbow point"
   ]
  },
  {
   "cell_type": "code",
   "execution_count": 9,
   "metadata": {},
   "outputs": [
    {
     "data": {
      "text/html": [
       "<div>\n",
       "<style scoped>\n",
       "    .dataframe tbody tr th:only-of-type {\n",
       "        vertical-align: middle;\n",
       "    }\n",
       "\n",
       "    .dataframe tbody tr th {\n",
       "        vertical-align: top;\n",
       "    }\n",
       "\n",
       "    .dataframe thead th {\n",
       "        text-align: right;\n",
       "    }\n",
       "</style>\n",
       "<table border=\"1\" class=\"dataframe\">\n",
       "  <thead>\n",
       "    <tr style=\"text-align: right;\">\n",
       "      <th></th>\n",
       "      <th>k</th>\n",
       "      <th>inertia</th>\n",
       "    </tr>\n",
       "  </thead>\n",
       "  <tbody>\n",
       "    <tr>\n",
       "      <th>0</th>\n",
       "      <td>1.0</td>\n",
       "      <td>73638.882816</td>\n",
       "    </tr>\n",
       "    <tr>\n",
       "      <th>1</th>\n",
       "      <td>2.0</td>\n",
       "      <td>62275.143278</td>\n",
       "    </tr>\n",
       "    <tr>\n",
       "      <th>2</th>\n",
       "      <td>3.0</td>\n",
       "      <td>54243.244848</td>\n",
       "    </tr>\n",
       "    <tr>\n",
       "      <th>3</th>\n",
       "      <td>4.0</td>\n",
       "      <td>48757.148939</td>\n",
       "    </tr>\n",
       "    <tr>\n",
       "      <th>4</th>\n",
       "      <td>5.0</td>\n",
       "      <td>45353.299158</td>\n",
       "    </tr>\n",
       "    <tr>\n",
       "      <th>5</th>\n",
       "      <td>6.0</td>\n",
       "      <td>42980.449540</td>\n",
       "    </tr>\n",
       "  </tbody>\n",
       "</table>\n",
       "</div>"
      ],
      "text/plain": [
       "     k       inertia\n",
       "0  1.0  73638.882816\n",
       "1  2.0  62275.143278\n",
       "2  3.0  54243.244848\n",
       "3  4.0  48757.148939\n",
       "4  5.0  45353.299158\n",
       "5  6.0  42980.449540"
      ]
     },
     "execution_count": 9,
     "metadata": {},
     "output_type": "execute_result"
    }
   ],
   "source": [
    "from sklearn.cluster import KMeans\n",
    "\n",
    "Ks = [1, 2, 3, 4, 5, 6]\n",
    "score = []\n",
    "for k in Ks:\n",
    "    km = KMeans(n_clusters = k).fit(features)\n",
    "    score.append(pd.Series({'k':k, 'score':km.inertia_})) \n",
    "score = pd.DataFrame(score).rename(columns = {'score':'inertia'})\n",
    "\n",
    "score"
   ]
  },
  {
   "cell_type": "code",
   "execution_count": 11,
   "metadata": {},
   "outputs": [
    {
     "data": {
      "text/plain": [
       "[<matplotlib.lines.Line2D at 0x2dc946f47c0>]"
      ]
     },
     "execution_count": 11,
     "metadata": {},
     "output_type": "execute_result"
    },
    {
     "data": {
      "image/png": "[encoded data removed]",
      "text/plain": [
       "<Figure size 576x432 with 1 Axes>"
      ]
     },
     "metadata": {
      "needs_background": "light"
     },
     "output_type": "display_data"
    }
   ],
   "source": [
    "plt.figure(figsize = (8,6))\n",
    "plt.plot(score.k, score.inertia)"
   ]
  },
  {
   "cell_type": "markdown",
   "metadata": {},
   "source": [
    "We can't figure out where is the elbow point although we do know that we have 2 classes"
   ]
  },
  {
   "cell_type": "markdown",
   "metadata": {},
   "source": [
    "#### Let's try k-means and Agglomerative-Clustering with 2 clusters to see if we can distinguish the 2 classes"
   ]
  },
  {
   "cell_type": "code",
   "execution_count": 88,
   "metadata": {},
   "outputs": [],
   "source": [
    "from sklearn.cluster import AgglomerativeClustering"
   ]
  },
  {
   "cell_type": "code",
   "execution_count": 101,
   "metadata": {},
   "outputs": [],
   "source": [
    "km = KMeans(n_clusters = 2).fit(features)\n",
    "\n",
    "ag = AgglomerativeClustering().fit(features)\n",
    "\n",
    "kmeans = pd.DataFrame([data['class'], km.labels_]).T.rename(columns = {'Unnamed 0':'kmeans'}).groupby(['class',\n",
    "                                                                                             'kmeans']).size().to_frame().rename(columns={0:'km - number'})\n",
    "\n",
    "agglomerative = pd.DataFrame([data['class'], ag.labels_]).T.rename(columns = {'Unnamed 0':'Agglomerative'}).groupby(['class',\n",
    "                                                                                             'Agglomerative']).size().to_frame().rename(columns={0:'ag - number'})"
   ]
  },
  {
   "cell_type": "code",
   "execution_count": 104,
   "metadata": {},
   "outputs": [
    {
     "data": {
      "text/html": [
       "<div>\n",
       "<style scoped>\n",
       "    .dataframe tbody tr th:only-of-type {\n",
       "        vertical-align: middle;\n",
       "    }\n",
       "\n",
       "    .dataframe tbody tr th {\n",
       "        vertical-align: top;\n",
       "    }\n",
       "\n",
       "    .dataframe thead th {\n",
       "        text-align: right;\n",
       "    }\n",
       "</style>\n",
       "<table border=\"1\" class=\"dataframe\">\n",
       "  <thead>\n",
       "    <tr style=\"text-align: right;\">\n",
       "      <th></th>\n",
       "      <th></th>\n",
       "      <th>km - number</th>\n",
       "      <th>ag - number</th>\n",
       "    </tr>\n",
       "  </thead>\n",
       "  <tbody>\n",
       "    <tr>\n",
       "      <th rowspan=\"2\" valign=\"top\">0</th>\n",
       "      <th>0</th>\n",
       "      <td>32</td>\n",
       "      <td>0</td>\n",
       "    </tr>\n",
       "    <tr>\n",
       "      <th>1</th>\n",
       "      <td>4176</td>\n",
       "      <td>4208</td>\n",
       "    </tr>\n",
       "    <tr>\n",
       "      <th rowspan=\"2\" valign=\"top\">1</th>\n",
       "      <th>0</th>\n",
       "      <td>3098</td>\n",
       "      <td>3024</td>\n",
       "    </tr>\n",
       "    <tr>\n",
       "      <th>1</th>\n",
       "      <td>818</td>\n",
       "      <td>892</td>\n",
       "    </tr>\n",
       "  </tbody>\n",
       "</table>\n",
       "</div>"
      ],
      "text/plain": [
       "     km - number  ag - number\n",
       "0 0           32            0\n",
       "  1         4176         4208\n",
       "1 0         3098         3024\n",
       "  1          818          892"
      ]
     },
     "execution_count": 104,
     "metadata": {},
     "output_type": "execute_result"
    }
   ],
   "source": [
    "pd.concat([kmeans, agglomerative['ag - number']], axis = 1).fillna(0).astype(int)"
   ]
  },
  {
   "cell_type": "code",
   "execution_count": 100,
   "metadata": {},
   "outputs": [
    {
     "data": {
      "text/plain": [
       "0    4208\n",
       "1    3916\n",
       "Name: class, dtype: int64"
      ]
     },
     "execution_count": 100,
     "metadata": {},
     "output_type": "execute_result"
    }
   ],
   "source": [
    "data['class'].value_counts()"
   ]
  },
  {
   "cell_type": "markdown",
   "metadata": {},
   "source": [
    "Agglomerative Clustering did a better job on predicting the first class but worse on the second class (compared to kmeans algorithm)"
   ]
  },
  {
   "cell_type": "markdown",
   "metadata": {},
   "source": [
    "#### Let's explore the correlations between our features"
   ]
  },
  {
   "cell_type": "code",
   "execution_count": 38,
   "metadata": {},
   "outputs": [],
   "source": [
    "correlations = features.corr()\n",
    "\n",
    "for pos in range(0, correlations.shape[0]):\n",
    "    correlations.iloc[pos,pos] = 0.0\n",
    "corr = pd.DataFrame([correlations.abs().idxmax(),\n",
    "              correlations.abs().max()]).T.reset_index().rename(columns = {'index':'feature 1',\n",
    "                                                                          0:'feature 2',\n",
    "                                                                          1:'correlation'})"
   ]
  },
  {
   "cell_type": "code",
   "execution_count": 40,
   "metadata": {},
   "outputs": [
    {
     "data": {
      "text/html": [
       "<div>\n",
       "<style scoped>\n",
       "    .dataframe tbody tr th:only-of-type {\n",
       "        vertical-align: middle;\n",
       "    }\n",
       "\n",
       "    .dataframe tbody tr th {\n",
       "        vertical-align: top;\n",
       "    }\n",
       "\n",
       "    .dataframe thead th {\n",
       "        text-align: right;\n",
       "    }\n",
       "</style>\n",
       "<table border=\"1\" class=\"dataframe\">\n",
       "  <thead>\n",
       "    <tr style=\"text-align: right;\">\n",
       "      <th></th>\n",
       "      <th>feature 1</th>\n",
       "      <th>feature 2</th>\n",
       "      <th>correlation</th>\n",
       "    </tr>\n",
       "  </thead>\n",
       "  <tbody>\n",
       "    <tr>\n",
       "      <th>55</th>\n",
       "      <td>stalk-color-above-ring_o</td>\n",
       "      <td>stalk-color-below-ring_o</td>\n",
       "      <td>1</td>\n",
       "    </tr>\n",
       "    <tr>\n",
       "      <th>69</th>\n",
       "      <td>veil-color_y</td>\n",
       "      <td>stalk-color-above-ring_y</td>\n",
       "      <td>1</td>\n",
       "    </tr>\n",
       "    <tr>\n",
       "      <th>21</th>\n",
       "      <td>odor_m</td>\n",
       "      <td>stalk-color-above-ring_c</td>\n",
       "      <td>1</td>\n",
       "    </tr>\n",
       "    <tr>\n",
       "      <th>63</th>\n",
       "      <td>stalk-color-below-ring_o</td>\n",
       "      <td>stalk-color-above-ring_o</td>\n",
       "      <td>1</td>\n",
       "    </tr>\n",
       "    <tr>\n",
       "      <th>74</th>\n",
       "      <td>ring-type_n</td>\n",
       "      <td>odor_m</td>\n",
       "      <td>1</td>\n",
       "    </tr>\n",
       "    <tr>\n",
       "      <th>59</th>\n",
       "      <td>stalk-color-below-ring_c</td>\n",
       "      <td>odor_m</td>\n",
       "      <td>1</td>\n",
       "    </tr>\n",
       "    <tr>\n",
       "      <th>58</th>\n",
       "      <td>stalk-color-above-ring_y</td>\n",
       "      <td>veil-color_y</td>\n",
       "      <td>1</td>\n",
       "    </tr>\n",
       "    <tr>\n",
       "      <th>51</th>\n",
       "      <td>stalk-color-above-ring_c</td>\n",
       "      <td>odor_m</td>\n",
       "      <td>1</td>\n",
       "    </tr>\n",
       "    <tr>\n",
       "      <th>68</th>\n",
       "      <td>veil-color_w</td>\n",
       "      <td>stalk-color-above-ring_o</td>\n",
       "      <td>0.979302</td>\n",
       "    </tr>\n",
       "    <tr>\n",
       "      <th>71</th>\n",
       "      <td>ring-number_t</td>\n",
       "      <td>ring-number_o</td>\n",
       "      <td>0.968959</td>\n",
       "    </tr>\n",
       "    <tr>\n",
       "      <th>70</th>\n",
       "      <td>ring-number_o</td>\n",
       "      <td>ring-number_t</td>\n",
       "      <td>0.968959</td>\n",
       "    </tr>\n",
       "    <tr>\n",
       "      <th>26</th>\n",
       "      <td>gill-attachment_f</td>\n",
       "      <td>stalk-color-above-ring_o</td>\n",
       "      <td>0.955097</td>\n",
       "    </tr>\n",
       "    <tr>\n",
       "      <th>76</th>\n",
       "      <td>spore-print-color_h</td>\n",
       "      <td>ring-type_l</td>\n",
       "      <td>0.86893</td>\n",
       "    </tr>\n",
       "    <tr>\n",
       "      <th>73</th>\n",
       "      <td>ring-type_l</td>\n",
       "      <td>spore-print-color_h</td>\n",
       "      <td>0.86893</td>\n",
       "    </tr>\n",
       "    <tr>\n",
       "      <th>46</th>\n",
       "      <td>stalk-surface-above-ring_s</td>\n",
       "      <td>stalk-surface-above-ring_k</td>\n",
       "      <td>0.850905</td>\n",
       "    </tr>\n",
       "    <tr>\n",
       "      <th>45</th>\n",
       "      <td>stalk-surface-above-ring_k</td>\n",
       "      <td>stalk-surface-above-ring_s</td>\n",
       "      <td>0.850905</td>\n",
       "    </tr>\n",
       "    <tr>\n",
       "      <th>44</th>\n",
       "      <td>stalk-root_r</td>\n",
       "      <td>stalk-surface-below-ring_y</td>\n",
       "      <td>0.817444</td>\n",
       "    </tr>\n",
       "    <tr>\n",
       "      <th>50</th>\n",
       "      <td>stalk-surface-below-ring_y</td>\n",
       "      <td>stalk-root_r</td>\n",
       "      <td>0.817444</td>\n",
       "    </tr>\n",
       "    <tr>\n",
       "      <th>19</th>\n",
       "      <td>odor_f</td>\n",
       "      <td>spore-print-color_h</td>\n",
       "      <td>0.799752</td>\n",
       "    </tr>\n",
       "    <tr>\n",
       "      <th>49</th>\n",
       "      <td>stalk-surface-below-ring_s</td>\n",
       "      <td>stalk-surface-below-ring_k</td>\n",
       "      <td>0.782903</td>\n",
       "    </tr>\n",
       "    <tr>\n",
       "      <th>48</th>\n",
       "      <td>stalk-surface-below-ring_k</td>\n",
       "      <td>stalk-surface-below-ring_s</td>\n",
       "      <td>0.782903</td>\n",
       "    </tr>\n",
       "    <tr>\n",
       "      <th>75</th>\n",
       "      <td>ring-type_p</td>\n",
       "      <td>bruises_t</td>\n",
       "      <td>0.767036</td>\n",
       "    </tr>\n",
       "    <tr>\n",
       "      <th>17</th>\n",
       "      <td>bruises_t</td>\n",
       "      <td>ring-type_p</td>\n",
       "      <td>0.767036</td>\n",
       "    </tr>\n",
       "    <tr>\n",
       "      <th>84</th>\n",
       "      <td>population_c</td>\n",
       "      <td>habitat_w</td>\n",
       "      <td>0.744425</td>\n",
       "    </tr>\n",
       "    <tr>\n",
       "      <th>94</th>\n",
       "      <td>habitat_w</td>\n",
       "      <td>population_c</td>\n",
       "      <td>0.744425</td>\n",
       "    </tr>\n",
       "    <tr>\n",
       "      <th>4</th>\n",
       "      <td>cap-shape_x</td>\n",
       "      <td>cap-shape_f</td>\n",
       "      <td>0.720235</td>\n",
       "    </tr>\n",
       "    <tr>\n",
       "      <th>1</th>\n",
       "      <td>cap-shape_f</td>\n",
       "      <td>cap-shape_x</td>\n",
       "      <td>0.720235</td>\n",
       "    </tr>\n",
       "    <tr>\n",
       "      <th>67</th>\n",
       "      <td>veil-color_o</td>\n",
       "      <td>stalk-color-above-ring_o</td>\n",
       "      <td>0.702866</td>\n",
       "    </tr>\n",
       "    <tr>\n",
       "      <th>52</th>\n",
       "      <td>stalk-color-above-ring_e</td>\n",
       "      <td>habitat_w</td>\n",
       "      <td>0.702866</td>\n",
       "    </tr>\n",
       "    <tr>\n",
       "      <th>60</th>\n",
       "      <td>stalk-color-below-ring_e</td>\n",
       "      <td>habitat_w</td>\n",
       "      <td>0.702866</td>\n",
       "    </tr>\n",
       "    <tr>\n",
       "      <th>29</th>\n",
       "      <td>gill-color_e</td>\n",
       "      <td>habitat_w</td>\n",
       "      <td>0.702866</td>\n",
       "    </tr>\n",
       "  </tbody>\n",
       "</table>\n",
       "</div>"
      ],
      "text/plain": [
       "                     feature 1                   feature 2 correlation\n",
       "55    stalk-color-above-ring_o    stalk-color-below-ring_o           1\n",
       "69                veil-color_y    stalk-color-above-ring_y           1\n",
       "21                      odor_m    stalk-color-above-ring_c           1\n",
       "63    stalk-color-below-ring_o    stalk-color-above-ring_o           1\n",
       "74                 ring-type_n                      odor_m           1\n",
       "59    stalk-color-below-ring_c                      odor_m           1\n",
       "58    stalk-color-above-ring_y                veil-color_y           1\n",
       "51    stalk-color-above-ring_c                      odor_m           1\n",
       "68                veil-color_w    stalk-color-above-ring_o    0.979302\n",
       "71               ring-number_t               ring-number_o    0.968959\n",
       "70               ring-number_o               ring-number_t    0.968959\n",
       "26           gill-attachment_f    stalk-color-above-ring_o    0.955097\n",
       "76         spore-print-color_h                 ring-type_l     0.86893\n",
       "73                 ring-type_l         spore-print-color_h     0.86893\n",
       "46  stalk-surface-above-ring_s  stalk-surface-above-ring_k    0.850905\n",
       "45  stalk-surface-above-ring_k  stalk-surface-above-ring_s    0.850905\n",
       "44                stalk-root_r  stalk-surface-below-ring_y    0.817444\n",
       "50  stalk-surface-below-ring_y                stalk-root_r    0.817444\n",
       "19                      odor_f         spore-print-color_h    0.799752\n",
       "49  stalk-surface-below-ring_s  stalk-surface-below-ring_k    0.782903\n",
       "48  stalk-surface-below-ring_k  stalk-surface-below-ring_s    0.782903\n",
       "75                 ring-type_p                   bruises_t    0.767036\n",
       "17                   bruises_t                 ring-type_p    0.767036\n",
       "84                population_c                   habitat_w    0.744425\n",
       "94                   habitat_w                population_c    0.744425\n",
       "4                  cap-shape_x                 cap-shape_f    0.720235\n",
       "1                  cap-shape_f                 cap-shape_x    0.720235\n",
       "67                veil-color_o    stalk-color-above-ring_o    0.702866\n",
       "52    stalk-color-above-ring_e                   habitat_w    0.702866\n",
       "60    stalk-color-below-ring_e                   habitat_w    0.702866\n",
       "29                gill-color_e                   habitat_w    0.702866"
      ]
     },
     "execution_count": 40,
     "metadata": {},
     "output_type": "execute_result"
    }
   ],
   "source": [
    "corr[corr.correlation > 0.7].sort_values('correlation', ascending = False)"
   ]
  },
  {
   "cell_type": "markdown",
   "metadata": {},
   "source": [
    "We can see above that too many features have very high correlation between them. That propably means that eliminating some of them does not necessarily means that we'll lose much info of our data "
   ]
  },
  {
   "cell_type": "markdown",
   "metadata": {},
   "source": [
    "#### Let's eliminate some of the features with PCA and observe the accuracy of a logistic regression model for different number of components"
   ]
  },
  {
   "cell_type": "code",
   "execution_count": 13,
   "metadata": {},
   "outputs": [],
   "source": [
    "from sklearn.decomposition import PCA\n",
    "from sklearn.linear_model import LogisticRegression\n",
    "from sklearn.metrics import accuracy_score\n",
    "from sklearn.model_selection import train_test_split\n",
    "\n",
    "x_train, x_test, y_train, y_test = train_test_split(features, y, test_size = 0.3, random_state = 42)\n",
    "\n",
    "# accuracy of the model as it is (with 96 features)\n",
    "\n",
    "lr = LogisticRegression(n_jobs = -1, random_state = 42)\n",
    "lr = lr.fit(x_train, y_train)\n",
    "y_pred = lr.predict(x_test)\n",
    "sc = accuracy_score(y_pred, y_test)\n",
    "\n",
    "\n",
    "modelPCA = []\n",
    "components = np.arange(2, 50, step = 5, dtype = int) #50\n",
    "for n in components:\n",
    "    PCAmodel = PCA(n_components = n)\n",
    "    features_PCA = PCAmodel.fit_transform(features)\n",
    "    \n",
    "    x_train, x_test, y_train, y_test = train_test_split(features_PCA, y, test_size = 0.3, random_state = 42)\n",
    "    \n",
    "    lr = lr.fit(x_train, y_train)\n",
    "    y_pred = lr.predict(x_test)\n",
    "    modelPCA.append(pd.Series({'components':n,'accuracy':accuracy_score(y_pred, y_test)}))\n",
    "modelPCA.append(pd.Series({'components':features.shape[1],'accuracy':sc}))\n",
    "    \n",
    "modelPCA = pd.DataFrame(modelPCA)"
   ]
  },
  {
   "cell_type": "code",
   "execution_count": 14,
   "metadata": {},
   "outputs": [
    {
     "data": {
      "text/html": [
       "<div>\n",
       "<style scoped>\n",
       "    .dataframe tbody tr th:only-of-type {\n",
       "        vertical-align: middle;\n",
       "    }\n",
       "\n",
       "    .dataframe tbody tr th {\n",
       "        vertical-align: top;\n",
       "    }\n",
       "\n",
       "    .dataframe thead th {\n",
       "        text-align: right;\n",
       "    }\n",
       "</style>\n",
       "<table border=\"1\" class=\"dataframe\">\n",
       "  <thead>\n",
       "    <tr style=\"text-align: right;\">\n",
       "      <th></th>\n",
       "      <th>components</th>\n",
       "      <th>accuracy</th>\n",
       "    </tr>\n",
       "  </thead>\n",
       "  <tbody>\n",
       "    <tr>\n",
       "      <th>0</th>\n",
       "      <td>2.0</td>\n",
       "      <td>0.876948</td>\n",
       "    </tr>\n",
       "    <tr>\n",
       "      <th>1</th>\n",
       "      <td>7.0</td>\n",
       "      <td>0.940935</td>\n",
       "    </tr>\n",
       "    <tr>\n",
       "      <th>2</th>\n",
       "      <td>12.0</td>\n",
       "      <td>0.945447</td>\n",
       "    </tr>\n",
       "    <tr>\n",
       "      <th>3</th>\n",
       "      <td>17.0</td>\n",
       "      <td>0.972108</td>\n",
       "    </tr>\n",
       "    <tr>\n",
       "      <th>4</th>\n",
       "      <td>22.0</td>\n",
       "      <td>0.981542</td>\n",
       "    </tr>\n",
       "    <tr>\n",
       "      <th>5</th>\n",
       "      <td>27.0</td>\n",
       "      <td>0.989746</td>\n",
       "    </tr>\n",
       "    <tr>\n",
       "      <th>6</th>\n",
       "      <td>32.0</td>\n",
       "      <td>0.991386</td>\n",
       "    </tr>\n",
       "    <tr>\n",
       "      <th>7</th>\n",
       "      <td>37.0</td>\n",
       "      <td>0.991797</td>\n",
       "    </tr>\n",
       "    <tr>\n",
       "      <th>8</th>\n",
       "      <td>42.0</td>\n",
       "      <td>0.995488</td>\n",
       "    </tr>\n",
       "    <tr>\n",
       "      <th>9</th>\n",
       "      <td>47.0</td>\n",
       "      <td>0.997539</td>\n",
       "    </tr>\n",
       "    <tr>\n",
       "      <th>10</th>\n",
       "      <td>95.0</td>\n",
       "      <td>0.999180</td>\n",
       "    </tr>\n",
       "  </tbody>\n",
       "</table>\n",
       "</div>"
      ],
      "text/plain": [
       "    components  accuracy\n",
       "0          2.0  0.876948\n",
       "1          7.0  0.940935\n",
       "2         12.0  0.945447\n",
       "3         17.0  0.972108\n",
       "4         22.0  0.981542\n",
       "5         27.0  0.989746\n",
       "6         32.0  0.991386\n",
       "7         37.0  0.991797\n",
       "8         42.0  0.995488\n",
       "9         47.0  0.997539\n",
       "10        95.0  0.999180"
      ]
     },
     "execution_count": 14,
     "metadata": {},
     "output_type": "execute_result"
    }
   ],
   "source": [
    "modelPCA"
   ]
  },
  {
   "cell_type": "markdown",
   "metadata": {},
   "source": [
    "We can see that when after 30 features there is a little difference in our model accuracy"
   ]
  },
  {
   "cell_type": "markdown",
   "metadata": {},
   "source": [
    "#### Let's do the same this time using kernelPCA "
   ]
  },
  {
   "cell_type": "code",
   "execution_count": 15,
   "metadata": {},
   "outputs": [],
   "source": [
    "from sklearn.decomposition import KernelPCA\n",
    "from sklearn.model_selection import GridSearchCV\n",
    "\n",
    "modelKPCA = []\n",
    "components = np.arange(2, 50, step = 5, dtype = int) #50\n",
    "lrk = LogisticRegression(n_jobs = -1, random_state = 42)\n",
    "\n",
    "\n",
    "for n in components:\n",
    "   \n",
    "    KPCAmodel = KernelPCA(n_components = n, n_jobs = -1)\n",
    "    features_PCA = KPCAmodel.fit_transform(features)\n",
    "\n",
    "    x_train, x_test, y_train, y_test = train_test_split(features_PCA, y, test_size = 0.3, random_state = 42)\n",
    " \n",
    "    lrk.fit(x_train, y_train)\n",
    "    y_pred = lrk.predict(x_test)\n",
    "    \n",
    "    modelKPCA.append(pd.Series({'components':n,'accuracy':accuracy_score(y_pred, y_test)}))\n",
    "modelKPCA.append(pd.Series({'components':features.shape[1],'accuracy':sc}))\n",
    "    \n",
    "modelKPCA = pd.DataFrame(modelKPCA)"
   ]
  },
  {
   "cell_type": "code",
   "execution_count": 16,
   "metadata": {},
   "outputs": [
    {
     "data": {
      "text/html": [
       "<div>\n",
       "<style scoped>\n",
       "    .dataframe tbody tr th:only-of-type {\n",
       "        vertical-align: middle;\n",
       "    }\n",
       "\n",
       "    .dataframe tbody tr th {\n",
       "        vertical-align: top;\n",
       "    }\n",
       "\n",
       "    .dataframe thead th {\n",
       "        text-align: right;\n",
       "    }\n",
       "</style>\n",
       "<table border=\"1\" class=\"dataframe\">\n",
       "  <thead>\n",
       "    <tr style=\"text-align: right;\">\n",
       "      <th></th>\n",
       "      <th>components</th>\n",
       "      <th>accuracy</th>\n",
       "    </tr>\n",
       "  </thead>\n",
       "  <tbody>\n",
       "    <tr>\n",
       "      <th>0</th>\n",
       "      <td>2.0</td>\n",
       "      <td>0.876948</td>\n",
       "    </tr>\n",
       "    <tr>\n",
       "      <th>1</th>\n",
       "      <td>7.0</td>\n",
       "      <td>0.940935</td>\n",
       "    </tr>\n",
       "    <tr>\n",
       "      <th>2</th>\n",
       "      <td>12.0</td>\n",
       "      <td>0.942986</td>\n",
       "    </tr>\n",
       "    <tr>\n",
       "      <th>3</th>\n",
       "      <td>17.0</td>\n",
       "      <td>0.971698</td>\n",
       "    </tr>\n",
       "    <tr>\n",
       "      <th>4</th>\n",
       "      <td>22.0</td>\n",
       "      <td>0.980312</td>\n",
       "    </tr>\n",
       "    <tr>\n",
       "      <th>5</th>\n",
       "      <td>27.0</td>\n",
       "      <td>0.989336</td>\n",
       "    </tr>\n",
       "    <tr>\n",
       "      <th>6</th>\n",
       "      <td>32.0</td>\n",
       "      <td>0.991386</td>\n",
       "    </tr>\n",
       "    <tr>\n",
       "      <th>7</th>\n",
       "      <td>37.0</td>\n",
       "      <td>0.991797</td>\n",
       "    </tr>\n",
       "    <tr>\n",
       "      <th>8</th>\n",
       "      <td>42.0</td>\n",
       "      <td>0.995898</td>\n",
       "    </tr>\n",
       "    <tr>\n",
       "      <th>9</th>\n",
       "      <td>47.0</td>\n",
       "      <td>0.997539</td>\n",
       "    </tr>\n",
       "    <tr>\n",
       "      <th>10</th>\n",
       "      <td>95.0</td>\n",
       "      <td>0.999180</td>\n",
       "    </tr>\n",
       "  </tbody>\n",
       "</table>\n",
       "</div>"
      ],
      "text/plain": [
       "    components  accuracy\n",
       "0          2.0  0.876948\n",
       "1          7.0  0.940935\n",
       "2         12.0  0.942986\n",
       "3         17.0  0.971698\n",
       "4         22.0  0.980312\n",
       "5         27.0  0.989336\n",
       "6         32.0  0.991386\n",
       "7         37.0  0.991797\n",
       "8         42.0  0.995898\n",
       "9         47.0  0.997539\n",
       "10        95.0  0.999180"
      ]
     },
     "execution_count": 16,
     "metadata": {},
     "output_type": "execute_result"
    }
   ],
   "source": [
    "modelKPCA"
   ]
  },
  {
   "cell_type": "code",
   "execution_count": 17,
   "metadata": {},
   "outputs": [
    {
     "data": {
      "image/png": "[encoded data removed]",
      "text/plain": [
       "<Figure size 648x432 with 1 Axes>"
      ]
     },
     "metadata": {
      "needs_background": "light"
     },
     "output_type": "display_data"
    }
   ],
   "source": [
    "plt.figure(figsize = (9,6))\n",
    "plt.plot(modelPCA.components, modelPCA.accuracy, color = 'red', label = 'PCA')\n",
    "plt.plot(modelKPCA.components, modelKPCA.accuracy, color = 'blue', label = 'Kernel PCA')\n",
    "\n",
    "plt.xlabel('components', size = 10);\n",
    "plt.ylabel('accuracy', size = 10);\n",
    "plt.title('Accuracy of the model after PCA')\n",
    "plt.grid(True)"
   ]
  },
  {
   "cell_type": "markdown",
   "metadata": {},
   "source": [
    "We can see that there is no difference between PCA and kernelPCA"
   ]
  },
  {
   "cell_type": "markdown",
   "metadata": {},
   "source": [
    "#### We'll choose only 2 principal components and calculate the contribution of each initial feature to them "
   ]
  },
  {
   "cell_type": "code",
   "execution_count": 18,
   "metadata": {},
   "outputs": [
    {
     "data": {
      "text/plain": [
       "array([0.17653548, 0.11252669])"
      ]
     },
     "execution_count": 18,
     "metadata": {},
     "output_type": "execute_result"
    }
   ],
   "source": [
    "PCAmodel = PCA(n_components = 2).fit(features)\n",
    "PCAmodel.explained_variance_ratio_"
   ]
  },
  {
   "cell_type": "code",
   "execution_count": 19,
   "metadata": {},
   "outputs": [
    {
     "data": {
      "text/plain": [
       "array([[0.61071803],\n",
       "       [0.38928197]])"
      ]
     },
     "execution_count": 19,
     "metadata": {},
     "output_type": "execute_result"
    }
   ],
   "source": [
    "weights = PCAmodel.explained_variance_ratio_.reshape(-1,1)/PCAmodel.explained_variance_ratio_.sum()\n",
    "weights"
   ]
  },
  {
   "cell_type": "code",
   "execution_count": 20,
   "metadata": {},
   "outputs": [
    {
     "data": {
      "text/plain": [
       "array([1.48116393e-04, 4.21816322e-02, 7.07017725e-02, 1.89018500e-03,\n",
       "       4.12754419e-02, 2.69998050e-04, 1.14041799e-01, 5.17544267e-02,\n",
       "       1.18786606e-03, 5.52551115e-02, 9.15826656e-02, 8.60581322e-02,\n",
       "       6.07344242e-03, 1.21276856e-04, 1.21276856e-04, 4.99222696e-02,\n",
       "       9.27919276e-02, 2.29115896e-01, 7.61384297e-03, 2.01606263e-01,\n",
       "       2.80913144e-02, 2.18807685e-03, 1.83033047e-01, 1.88696820e-02,\n",
       "       6.57708018e-02, 6.57708018e-02, 8.16199534e-03, 6.32321928e-02,\n",
       "       1.75489184e-01, 4.93293029e-03, 5.82902392e-02, 6.27940066e-02,\n",
       "       2.32903001e-02, 6.53684376e-02, 2.80397273e-03, 4.92030748e-02,\n",
       "       1.63687205e-03, 3.63915296e-02, 5.92725472e-02, 2.45632127e-03,\n",
       "       1.19844870e-01, 1.87593412e-01, 3.65440439e-02, 6.51297572e-02,\n",
       "       1.21625378e-02, 1.87327534e-01, 1.72299339e-01, 4.43803890e-04,\n",
       "       1.86915636e-01, 1.69486723e-01, 7.26966658e-03, 2.18807685e-03,\n",
       "       4.26201664e-03, 4.94467232e-02, 7.27358590e-02, 8.52510708e-03,\n",
       "       8.66306492e-02, 1.74255443e-01, 4.12962498e-04, 2.18807685e-03,\n",
       "       4.27608155e-03, 4.93491043e-02, 7.12692787e-02, 8.52510708e-03,\n",
       "       8.69402532e-02, 1.72385344e-01, 1.60538976e-03, 4.28140967e-03,\n",
       "       8.59941111e-03, 4.12962498e-04, 2.32969991e-02, 2.40370843e-02,\n",
       "       3.05549261e-04, 2.11957154e-01, 2.18807685e-03, 2.44431605e-01,\n",
       "       2.15547480e-01, 1.20476589e-01, 1.24221718e-01, 2.09742361e-03,\n",
       "       5.03900071e-03, 2.59403800e-03, 1.95426343e-01, 2.09742361e-03,\n",
       "       1.39438503e-02, 2.09447122e-02, 6.13469832e-02, 1.62625315e-01,\n",
       "       1.10725246e-01, 5.11667074e-02, 6.66293777e-02, 2.16328752e-02,\n",
       "       8.58784367e-02, 1.50705007e-02, 9.97261825e-03])"
      ]
     },
     "execution_count": 20,
     "metadata": {},
     "output_type": "execute_result"
    }
   ],
   "source": [
    "contribution = (weights * abs(PCAmodel.components_)).sum(axis = 0)\n",
    "contribution"
   ]
  },
  {
   "cell_type": "code",
   "execution_count": 21,
   "metadata": {},
   "outputs": [
    {
     "data": {
      "text/html": [
       "<div>\n",
       "<style scoped>\n",
       "    .dataframe tbody tr th:only-of-type {\n",
       "        vertical-align: middle;\n",
       "    }\n",
       "\n",
       "    .dataframe tbody tr th {\n",
       "        vertical-align: top;\n",
       "    }\n",
       "\n",
       "    .dataframe thead th {\n",
       "        text-align: right;\n",
       "    }\n",
       "</style>\n",
       "<table border=\"1\" class=\"dataframe\">\n",
       "  <thead>\n",
       "    <tr style=\"text-align: right;\">\n",
       "      <th></th>\n",
       "      <th>feature</th>\n",
       "      <th>contribution</th>\n",
       "    </tr>\n",
       "  </thead>\n",
       "  <tbody>\n",
       "    <tr>\n",
       "      <th>75</th>\n",
       "      <td>ring-type_p</td>\n",
       "      <td>0.244432</td>\n",
       "    </tr>\n",
       "    <tr>\n",
       "      <th>17</th>\n",
       "      <td>bruises_t</td>\n",
       "      <td>0.229116</td>\n",
       "    </tr>\n",
       "    <tr>\n",
       "      <th>76</th>\n",
       "      <td>spore-print-color_h</td>\n",
       "      <td>0.215547</td>\n",
       "    </tr>\n",
       "    <tr>\n",
       "      <th>73</th>\n",
       "      <td>ring-type_l</td>\n",
       "      <td>0.211957</td>\n",
       "    </tr>\n",
       "    <tr>\n",
       "      <th>19</th>\n",
       "      <td>odor_f</td>\n",
       "      <td>0.201606</td>\n",
       "    </tr>\n",
       "    <tr>\n",
       "      <th>82</th>\n",
       "      <td>spore-print-color_w</td>\n",
       "      <td>0.195426</td>\n",
       "    </tr>\n",
       "    <tr>\n",
       "      <th>41</th>\n",
       "      <td>stalk-root_b</td>\n",
       "      <td>0.187593</td>\n",
       "    </tr>\n",
       "    <tr>\n",
       "      <th>45</th>\n",
       "      <td>stalk-surface-above-ring_k</td>\n",
       "      <td>0.187328</td>\n",
       "    </tr>\n",
       "    <tr>\n",
       "      <th>48</th>\n",
       "      <td>stalk-surface-below-ring_k</td>\n",
       "      <td>0.186916</td>\n",
       "    </tr>\n",
       "    <tr>\n",
       "      <th>22</th>\n",
       "      <td>odor_n</td>\n",
       "      <td>0.183033</td>\n",
       "    </tr>\n",
       "  </tbody>\n",
       "</table>\n",
       "</div>"
      ],
      "text/plain": [
       "                       feature contribution\n",
       "75                 ring-type_p     0.244432\n",
       "17                   bruises_t     0.229116\n",
       "76         spore-print-color_h     0.215547\n",
       "73                 ring-type_l     0.211957\n",
       "19                      odor_f     0.201606\n",
       "82         spore-print-color_w     0.195426\n",
       "41                stalk-root_b     0.187593\n",
       "45  stalk-surface-above-ring_k     0.187328\n",
       "48  stalk-surface-below-ring_k     0.186916\n",
       "22                      odor_n     0.183033"
      ]
     },
     "execution_count": 21,
     "metadata": {},
     "output_type": "execute_result"
    }
   ],
   "source": [
    "contr = pd.DataFrame([features.columns,\n",
    "                      contribution]).T.rename(columns = {0:'feature', \n",
    "                                                         1:'contribution'})\n",
    "top = contr.sort_values('contribution', ascending = False)\n",
    "top.head(10)"
   ]
  },
  {
   "cell_type": "code",
   "execution_count": 22,
   "metadata": {},
   "outputs": [
    {
     "data": {
      "text/plain": [
       "<BarContainer object of 10 artists>"
      ]
     },
     "execution_count": 22,
     "metadata": {},
     "output_type": "execute_result"
    },
    {
     "data": {
      "image/png": "[encoded data removed]",
      "text/plain": [
       "<Figure size 648x360 with 1 Axes>"
      ]
     },
     "metadata": {
      "needs_background": "light"
     },
     "output_type": "display_data"
    }
   ],
   "source": [
    "plt.figure(figsize = (9,5))\n",
    "plt.xlabel('contribution') , plt.ylabel('feature')\n",
    "plt.title('Contribution of features when using PCA with 2 components')\n",
    "plt.barh(top['feature'].head(10), top['contribution'].head(10), color = 'navy', alpha = 0.6)"
   ]
  },
  {
   "cell_type": "markdown",
   "metadata": {},
   "source": [
    "The above diagram includes the features of dummies. Let's find the contribution of the initial features before dummies"
   ]
  },
  {
   "cell_type": "code",
   "execution_count": 23,
   "metadata": {},
   "outputs": [],
   "source": [
    "df = top.copy()\n",
    "for i in range(0, df.shape[0]):\n",
    "    df.feature.iloc[i] = df.feature.iloc[i][:-2]\n",
    "    \n",
    "topN = df.groupby('feature').sum().sort_values('contribution', ascending = False).reset_index()"
   ]
  },
  {
   "cell_type": "code",
   "execution_count": 24,
   "metadata": {},
   "outputs": [
    {
     "data": {
      "text/html": [
       "<div>\n",
       "<style scoped>\n",
       "    .dataframe tbody tr th:only-of-type {\n",
       "        vertical-align: middle;\n",
       "    }\n",
       "\n",
       "    .dataframe tbody tr th {\n",
       "        vertical-align: top;\n",
       "    }\n",
       "\n",
       "    .dataframe thead th {\n",
       "        text-align: right;\n",
       "    }\n",
       "</style>\n",
       "<table border=\"1\" class=\"dataframe\">\n",
       "  <thead>\n",
       "    <tr style=\"text-align: right;\">\n",
       "      <th></th>\n",
       "      <th>feature</th>\n",
       "      <th>contribution</th>\n",
       "    </tr>\n",
       "  </thead>\n",
       "  <tbody>\n",
       "    <tr>\n",
       "      <th>0</th>\n",
       "      <td>spore-print-color</td>\n",
       "      <td>0.667500</td>\n",
       "    </tr>\n",
       "    <tr>\n",
       "      <th>1</th>\n",
       "      <td>odor</td>\n",
       "      <td>0.572944</td>\n",
       "    </tr>\n",
       "    <tr>\n",
       "      <th>2</th>\n",
       "      <td>ring-type</td>\n",
       "      <td>0.458882</td>\n",
       "    </tr>\n",
       "    <tr>\n",
       "      <th>3</th>\n",
       "      <td>stalk-color-above-ring</td>\n",
       "      <td>0.398457</td>\n",
       "    </tr>\n",
       "    <tr>\n",
       "      <th>4</th>\n",
       "      <td>stalk-color-below-ring</td>\n",
       "      <td>0.396539</td>\n",
       "    </tr>\n",
       "  </tbody>\n",
       "</table>\n",
       "</div>"
      ],
      "text/plain": [
       "                  feature  contribution\n",
       "0       spore-print-color      0.667500\n",
       "1                    odor      0.572944\n",
       "2               ring-type      0.458882\n",
       "3  stalk-color-above-ring      0.398457\n",
       "4  stalk-color-below-ring      0.396539"
      ]
     },
     "execution_count": 24,
     "metadata": {},
     "output_type": "execute_result"
    }
   ],
   "source": [
    "topN.head()"
   ]
  },
  {
   "cell_type": "code",
   "execution_count": 25,
   "metadata": {},
   "outputs": [
    {
     "data": {
      "text/plain": [
       "<BarContainer object of 10 artists>"
      ]
     },
     "execution_count": 25,
     "metadata": {},
     "output_type": "execute_result"
    },
    {
     "data": {
      "image/png": "[encoded data removed]",
      "text/plain": [
       "<Figure size 648x360 with 1 Axes>"
      ]
     },
     "metadata": {
      "needs_background": "light"
     },
     "output_type": "display_data"
    }
   ],
   "source": [
    "plt.figure(figsize = (9,5))\n",
    "plt.xlabel('contribution') , plt.ylabel('feature')\n",
    "plt.title('Contribution of features when using PCA with 2 components')\n",
    "plt.barh(topN['feature'].head(10), topN['contribution'].head(10), color = 'navy', alpha = 0.6)"
   ]
  },
  {
   "cell_type": "markdown",
   "metadata": {},
   "source": [
    "* We can see from the above diagram that if we decide to use only 2 principal components, the 'spore print color', the 'odor' and the 'ring type' have the biggest impact on them. \n",
    "* Also we saw that keeping around 20 principal components of the initial 95 there is a minor difference on our Logistic Regression model accuracy"
   ]
  }
 ],
 "metadata": {
  "kernelspec": {
   "display_name": "Python 3",
   "language": "python",
   "name": "python3"
  },
  "language_info": {
   "codemirror_mode": {
    "name": "ipython",
    "version": 3
   },
   "file_extension": ".py",
   "mimetype": "text/x-python",
   "name": "python",
   "nbconvert_exporter": "python",
   "pygments_lexer": "ipython3",
   "version": "3.8.0"
  }
 },
 "nbformat": 4,
 "nbformat_minor": 4
}
